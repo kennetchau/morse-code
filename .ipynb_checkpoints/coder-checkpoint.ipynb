{
 "cells": [
  {
   "cell_type": "code",
   "execution_count": 1,
   "id": "bd2b9f60",
   "metadata": {},
   "outputs": [],
   "source": [
    "# Python 3\n",
    "# morsecode translator"
   ]
  },
  {
   "cell_type": "code",
   "execution_count": 41,
   "id": "6a362d8b",
   "metadata": {},
   "outputs": [],
   "source": [
    "import pandas as pd # use this to read csv "
   ]
  },
  {
   "cell_type": "code",
   "execution_count": 42,
   "id": "4285313f",
   "metadata": {},
   "outputs": [],
   "source": [
    "df = pd.read_excel(\"morsecode.xlsx\",engine='openpyxl')"
   ]
  },
  {
   "cell_type": "code",
   "execution_count": 43,
   "id": "331c80a0",
   "metadata": {},
   "outputs": [],
   "source": [
    "codedict = df.set_index('symbol')['code'].to_dict() # using panda to set the first column (symbol) as key as second column (code) as value"
   ]
  },
  {
   "cell_type": "code",
   "execution_count": 44,
   "id": "49c0ad43",
   "metadata": {},
   "outputs": [
    {
     "name": "stdout",
     "output_type": "stream",
     "text": [
      "{'a': '.- ', 'b': '-... ', 'c': '-.-. ', 'd': '-.. ', 'e': '. ', 'f': '..-. ', 'g': '--. ', 'h': '…. ', 'i': '.. ', 'j': '.--- ', 'k': '-.- ', 'l': '.-.. ', 'm': '-- ', 'n': '-. ', 'o': '--- ', 'p': '.--. ', 'q': '--.- ', 'r': '.-. ', 's': '… ', 't': '- ', 'u': '..- ', 'v': '…- ', 'w': '.-- ', 'x': '-..- ', 'y': '-.-- ', 'z': '--.. ', 1: '.--- ', 2: '..--- ', 3: '…-- ', 4: '….- ', 5: '….. ', 6: '-…. ', 7: '--… ', 8: '---.. ', 9: '----. ', 0: '----- ', ',': '--..-- ', '.': '.-.-.- ', '?': '..--.. ', '\"': '.-..-. ', ':': '---… ', nan: '.----. ', '-': '-….- ', '/': '-..-. ', '(': '-.--. ', ')': '-.--.- ', ' ': '/ '}\n"
     ]
    }
   ],
   "source": [
    "print(codedict)"
   ]
  },
  {
   "cell_type": "code",
   "execution_count": 45,
   "id": "a169ab8b",
   "metadata": {},
   "outputs": [
    {
     "name": "stdin",
     "output_type": "stream",
     "text": [
      "What is the message you want to translate?  This is awesome\n"
     ]
    }
   ],
   "source": [
    "string = input(\"What is the message you want to translate? \")"
   ]
  },
  {
   "cell_type": "code",
   "execution_count": 46,
   "id": "35ca36de",
   "metadata": {},
   "outputs": [],
   "source": [
    "string = string.lower()"
   ]
  },
  {
   "cell_type": "code",
   "execution_count": 47,
   "id": "1b3c4df5",
   "metadata": {},
   "outputs": [],
   "source": [
    "newstring = \"\""
   ]
  },
  {
   "cell_type": "code",
   "execution_count": 48,
   "id": "28d7ad4c",
   "metadata": {},
   "outputs": [
    {
     "name": "stdout",
     "output_type": "stream",
     "text": [
      "t\n",
      "h\n",
      "i\n",
      "s\n",
      " \n",
      "i\n",
      "s\n",
      " \n",
      "a\n",
      "w\n",
      "e\n",
      "s\n",
      "o\n",
      "m\n",
      "e\n"
     ]
    }
   ],
   "source": [
    "for item in string:\n",
    "    if item in codedict:\n",
    "        newstring = newstring + codedict[item]"
   ]
  },
  {
   "cell_type": "code",
   "execution_count": null,
   "id": "e2ae6bd2",
   "metadata": {},
   "outputs": [],
   "source": [
    "print(\"Here is the encoded message\")"
   ]
  },
  {
   "cell_type": "code",
   "execution_count": 49,
   "id": "9371be41",
   "metadata": {},
   "outputs": [
    {
     "name": "stdout",
     "output_type": "stream",
     "text": [
      "- …. .. … / .. … / .- .-- . … --- -- . \n"
     ]
    }
   ],
   "source": [
    "print(newstring)"
   ]
  },
  {
   "cell_type": "code",
   "execution_count": null,
   "id": "4173ba7f",
   "metadata": {},
   "outputs": [],
   "source": []
  }
 ],
 "metadata": {
  "kernelspec": {
   "display_name": "Python 3",
   "language": "python",
   "name": "python3"
  },
  "language_info": {
   "codemirror_mode": {
    "name": "ipython",
    "version": 3
   },
   "file_extension": ".py",
   "mimetype": "text/x-python",
   "name": "python",
   "nbconvert_exporter": "python",
   "pygments_lexer": "ipython3",
   "version": "3.7.10"
  }
 },
 "nbformat": 4,
 "nbformat_minor": 5
}
