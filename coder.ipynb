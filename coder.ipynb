{
 "cells": [
  {
   "cell_type": "code",
   "execution_count": 1,
   "id": "23121b76",
   "metadata": {},
   "outputs": [],
   "source": [
    "# Python 3\n",
    "# morsecode translator"
   ]
  },
  {
   "cell_type": "code",
   "execution_count": 54,
   "id": "351080b1",
   "metadata": {},
   "outputs": [],
   "source": [
    "import pandas as pd # use this to read csv "
   ]
  },
  {
   "cell_type": "code",
   "execution_count": 82,
   "id": "c441605b",
   "metadata": {},
   "outputs": [],
   "source": [
    "class Encode: #rewrite as an object for easy update in the future\n",
    "    \n",
    "    def __init__(self,encryptmenu,text):\n",
    "        self.encryptmenu = encryptmenu\n",
    "        self.text = text\n",
    "        self.df = pd.read_excel(self.encryptmenu,engine='openpyxl')\n",
    "    \n",
    "    def encrypt(self): #Function to encrypt text to morse code\n",
    "        codedict = self.df.set_index('symbol')['code'].to_dict()\n",
    "        texts = self.text.lower()\n",
    "        newstring = \"\"\n",
    "        for item in texts:\n",
    "            if item in codedict:\n",
    "                newstring = newstring + codedict[item]\n",
    "        return newstring\n",
    "        \n",
    "    def decrypt(self): #Function to decrypt morse code back to text\n",
    "        codedict = self.df.set_index('code')['symbol'].to_dict()\n",
    "        newstring = \"\"\n",
    "        inputs = list(self.text.split(' '))\n",
    "        print(inputs)\n",
    "        for item in inputs:\n",
    "            if item+' ' in codedict: # The space is included since the xlsx file have space at the end of each morse code\n",
    "                newstring = newstring + codedict[item+' ']\n",
    "        return newstring\n",
    "        "
   ]
  },
  {
   "cell_type": "code",
   "execution_count": 94,
   "id": "a38402e5",
   "metadata": {},
   "outputs": [],
   "source": [
    "encryptmenu = 'morsecode.xlsx'"
   ]
  },
  {
   "cell_type": "code",
   "execution_count": 95,
   "id": "105c0bd0",
   "metadata": {},
   "outputs": [
    {
     "name": "stdin",
     "output_type": "stream",
     "text": [
      "What's the message?  --. --- --- -.. / -- --- .-. -. .. -. --. \n"
     ]
    }
   ],
   "source": [
    "text = input(\"What's the message? \")"
   ]
  },
  {
   "cell_type": "code",
   "execution_count": 96,
   "id": "a2c6e29d",
   "metadata": {},
   "outputs": [
    {
     "name": "stdout",
     "output_type": "stream",
     "text": [
      "['--.', '---', '---', '-..', '/', '--', '---', '.-.', '-.', '..', '-.', '--.', '']\n"
     ]
    }
   ],
   "source": [
    "encodemessage = Encode(encryptmenu,text).decrypt()"
   ]
  },
  {
   "cell_type": "code",
   "execution_count": 97,
   "id": "ef9824ed",
   "metadata": {},
   "outputs": [
    {
     "name": "stdout",
     "output_type": "stream",
     "text": [
      "good morning\n"
     ]
    }
   ],
   "source": [
    "print(encodemessage)"
   ]
  },
  {
   "cell_type": "code",
   "execution_count": null,
   "id": "ce7595dc",
   "metadata": {},
   "outputs": [],
   "source": []
  }
 ],
 "metadata": {
  "kernelspec": {
   "display_name": "Python 3",
   "language": "python",
   "name": "python3"
  },
  "language_info": {
   "codemirror_mode": {
    "name": "ipython",
    "version": 3
   },
   "file_extension": ".py",
   "mimetype": "text/x-python",
   "name": "python",
   "nbconvert_exporter": "python",
   "pygments_lexer": "ipython3",
   "version": "3.7.10"
  }
 },
 "nbformat": 4,
 "nbformat_minor": 5
}
