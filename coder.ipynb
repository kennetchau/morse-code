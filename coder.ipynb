{
 "cells": [
  {
   "cell_type": "code",
   "execution_count": 1,
   "id": "d0aa9358",
   "metadata": {},
   "outputs": [],
   "source": [
    "# Python 3\n",
    "# morsecode translator"
   ]
  },
  {
   "cell_type": "code",
   "execution_count": 29,
   "id": "9cebdb70",
   "metadata": {},
   "outputs": [],
   "source": [
    "import pandas as pd # use this to read csv "
   ]
  },
  {
   "cell_type": "code",
   "execution_count": 38,
   "id": "ecb1a3e1",
   "metadata": {},
   "outputs": [],
   "source": [
    "class Encode: #rewrite as an object for easy update in the future\n",
    "    def __init__(self,encryptmenu,text):\n",
    "        self.encryptmenu = encryptmenu\n",
    "        self.text = text\n",
    "    def encrypt(self):\n",
    "        try:\n",
    "            df = pd.read_excel(self.encryptmenu,engine='openpyxl')\n",
    "            codedict = df.set_index('symbol')['code'].to_dict()\n",
    "        except:\n",
    "            print(\"not xlsx file\")\n",
    "        texts = self.text.lower()\n",
    "        newstring = \"\"\n",
    "        for item in texts:\n",
    "            if item in codedict:\n",
    "                newstring = newstring + codedict[item]\n",
    "        return newstring\n",
    "        "
   ]
  },
  {
   "cell_type": "code",
   "execution_count": 39,
   "id": "23b43468",
   "metadata": {},
   "outputs": [],
   "source": [
    "encryptmenu = 'morsecode.xlsx'"
   ]
  },
  {
   "cell_type": "code",
   "execution_count": 40,
   "id": "a65218e7",
   "metadata": {},
   "outputs": [
    {
     "name": "stdin",
     "output_type": "stream",
     "text": [
      "What do you want to encode?  Hello fellas\n"
     ]
    }
   ],
   "source": [
    "text = input(\"What's the message? \")"
   ]
  },
  {
   "cell_type": "code",
   "execution_count": 41,
   "id": "18c51b53",
   "metadata": {},
   "outputs": [],
   "source": [
    "encodemessage = Encode(encryptmenu,text).encrypt()"
   ]
  },
  {
   "cell_type": "code",
   "execution_count": 42,
   "id": "96d84d7e",
   "metadata": {},
   "outputs": [
    {
     "name": "stdout",
     "output_type": "stream",
     "text": [
      "….  . .-.. .-.. --- / ..-. . .-.. .-.. .- … \n"
     ]
    }
   ],
   "source": [
    "print(encodemessage)"
   ]
  },
  {
   "cell_type": "code",
   "execution_count": null,
   "id": "16458cac",
   "metadata": {},
   "outputs": [],
   "source": []
  }
 ],
 "metadata": {
  "kernelspec": {
   "display_name": "Python 3",
   "language": "python",
   "name": "python3"
  },
  "language_info": {
   "codemirror_mode": {
    "name": "ipython",
    "version": 3
   },
   "file_extension": ".py",
   "mimetype": "text/x-python",
   "name": "python",
   "nbconvert_exporter": "python",
   "pygments_lexer": "ipython3",
   "version": "3.7.10"
  }
 },
 "nbformat": 4,
 "nbformat_minor": 5
}
