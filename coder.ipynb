{
 "cells": [
  {
   "cell_type": "code",
   "execution_count": 1,
   "id": "ba09de90",
   "metadata": {},
   "outputs": [],
   "source": [
    "# Python 3\n",
    "# morsecode translator"
   ]
  },
  {
   "cell_type": "code",
   "execution_count": 50,
   "id": "6926e32f",
   "metadata": {},
   "outputs": [],
   "source": [
    "import pandas as pd # use this to read csv "
   ]
  },
  {
   "cell_type": "code",
   "execution_count": 51,
   "id": "c6d757e0",
   "metadata": {},
   "outputs": [],
   "source": [
    "df = pd.read_excel(\"morsecode.xlsx\",engine='openpyxl')"
   ]
  },
  {
   "cell_type": "code",
   "execution_count": 52,
   "id": "e515f866",
   "metadata": {},
   "outputs": [],
   "source": [
    "codedict = df.set_index('symbol')['code'].to_dict() # using panda to set the first column (symbol) as key as second column (code) as value"
   ]
  },
  {
   "cell_type": "code",
   "execution_count": 53,
   "id": "565b3afe",
   "metadata": {},
   "outputs": [
    {
     "name": "stdout",
     "output_type": "stream",
     "text": [
      "{'a': '.- ', 'b': '-... ', 'c': '-.-. ', 'd': '-.. ', 'e': '. ', 'f': '..-. ', 'g': '--. ', 'h': '…. ', 'i': '.. ', 'j': '.--- ', 'k': '-.- ', 'l': '.-.. ', 'm': '-- ', 'n': '-. ', 'o': '--- ', 'p': '.--. ', 'q': '--.- ', 'r': '.-. ', 's': '… ', 't': '- ', 'u': '..- ', 'v': '…- ', 'w': '.-- ', 'x': '-..- ', 'y': '-.-- ', 'z': '--.. ', 1: '.--- ', 2: '..--- ', 3: '…-- ', 4: '….- ', 5: '….. ', 6: '-…. ', 7: '--… ', 8: '---.. ', 9: '----. ', 0: '----- ', ',': '--..-- ', '.': '.-.-.- ', '?': '..--.. ', '\"': '.-..-. ', ':': '---… ', nan: '.----. ', '-': '-….- ', '/': '-..-. ', '(': '-.--. ', ')': '-.--.- ', ' ': '/ '}\n"
     ]
    }
   ],
   "source": [
    "print(codedict)"
   ]
  },
  {
   "cell_type": "code",
   "execution_count": 54,
   "id": "a3d0773b",
   "metadata": {},
   "outputs": [
    {
     "name": "stdin",
     "output_type": "stream",
     "text": [
      "What is the message you want to translate?  Good morning, today is Monday!\n"
     ]
    }
   ],
   "source": [
    "string = input(\"What is the message you want to translate? \")"
   ]
  },
  {
   "cell_type": "code",
   "execution_count": 55,
   "id": "0d70d8e0",
   "metadata": {},
   "outputs": [],
   "source": [
    "string = string.lower()"
   ]
  },
  {
   "cell_type": "code",
   "execution_count": 56,
   "id": "d9fdfe68",
   "metadata": {},
   "outputs": [],
   "source": [
    "newstring = \"\""
   ]
  },
  {
   "cell_type": "code",
   "execution_count": 57,
   "id": "a4b35709",
   "metadata": {},
   "outputs": [],
   "source": [
    "for item in string: #looping the message and matching the item with the dictionary key\n",
    "    if item in codedict:\n",
    "        newstring = newstring + codedict[item]"
   ]
  },
  {
   "cell_type": "code",
   "execution_count": 58,
   "id": "9d3f1337",
   "metadata": {},
   "outputs": [
    {
     "name": "stdout",
     "output_type": "stream",
     "text": [
      "Here is the encoded message\n"
     ]
    }
   ],
   "source": [
    "print(\"Here is the encoded message\")"
   ]
  },
  {
   "cell_type": "code",
   "execution_count": 59,
   "id": "5172b144",
   "metadata": {},
   "outputs": [
    {
     "name": "stdout",
     "output_type": "stream",
     "text": [
      "--. --- --- -.. / -- --- .-. -. .. -. --. --..-- / - --- -.. .- -.-- / .. … / -- --- -. -.. .- -.-- \n"
     ]
    }
   ],
   "source": [
    "print(newstring)"
   ]
  },
  {
   "cell_type": "code",
   "execution_count": null,
   "id": "feac5a45",
   "metadata": {},
   "outputs": [],
   "source": []
  }
 ],
 "metadata": {
  "kernelspec": {
   "display_name": "Python 3",
   "language": "python",
   "name": "python3"
  },
  "language_info": {
   "codemirror_mode": {
    "name": "ipython",
    "version": 3
   },
   "file_extension": ".py",
   "mimetype": "text/x-python",
   "name": "python",
   "nbconvert_exporter": "python",
   "pygments_lexer": "ipython3",
   "version": "3.7.10"
  }
 },
 "nbformat": 4,
 "nbformat_minor": 5
}
